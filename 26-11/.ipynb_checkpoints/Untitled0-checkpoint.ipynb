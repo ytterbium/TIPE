{
 "metadata": {
  "name": "",
  "signature": "sha256:70aaa8e9ac651c8f3c71d40ac65e87eabb2cd69c2550ca799846786011c3fba2"
 },
 "nbformat": 3,
 "nbformat_minor": 0,
 "worksheets": [
  {
   "cells": [
    {
     "cell_type": "code",
     "collapsed": false,
     "input": [
      "%matplotlib qt\n",
      "import matplotlib.pyplot as plt\n",
      "import numpy as np"
     ],
     "language": "python",
     "metadata": {},
     "outputs": [],
     "prompt_number": 42
    },
    {
     "cell_type": "code",
     "collapsed": false,
     "input": [
      "from exploitation import *\n",
      "\n",
      "avec = data_to_array(\"26-11/avec plaque vrai.csv\", ('Temps2', 'EA2', 'EA3'), names=True)\n",
      "sans = data_to_array(\"26-11/avec plaque.csv\", ('Temps2', 'EA2', 'EA3'), names=True)\n",
      "\n",
      "plt.subplot(211)\n",
      "plt.plot(avec['Temps2'], avec['EA2'])\n",
      "plt.twinx()\n",
      "plt.plot(avec['Temps2'], avec['EA3'], 'r')\n",
      "plt.title('Avec plaque')\n",
      "\n",
      "plt.subplot(212)\n",
      "plt.plot(sans['Temps2'], sans['EA2'])\n",
      "plt.twinx()\n",
      "plt.plot(sans['Temps2'], sans['EA3'], 'r')\n",
      "plt.title('Sans plaque')\n"
     ],
     "language": "python",
     "metadata": {},
     "outputs": [
      {
       "ename": "FileNotFoundError",
       "evalue": "[Errno 2] Aucun fichier ou dossier de ce type: '26-11/avec plaque vrai.csv'",
       "output_type": "pyerr",
       "traceback": [
        "\u001b[1;31m---------------------------------------------------------------------------\u001b[0m\n\u001b[1;31mFileNotFoundError\u001b[0m                         Traceback (most recent call last)",
        "\u001b[1;32m<ipython-input-43-36618412b476>\u001b[0m in \u001b[0;36m<module>\u001b[1;34m()\u001b[0m\n\u001b[0;32m      1\u001b[0m \u001b[1;32mfrom\u001b[0m \u001b[0mexploitation\u001b[0m \u001b[1;32mimport\u001b[0m \u001b[1;33m*\u001b[0m\u001b[1;33m\u001b[0m\u001b[0m\n\u001b[0;32m      2\u001b[0m \u001b[1;33m\u001b[0m\u001b[0m\n\u001b[1;32m----> 3\u001b[1;33m \u001b[0mavec\u001b[0m \u001b[1;33m=\u001b[0m \u001b[0mdata_to_array\u001b[0m\u001b[1;33m(\u001b[0m\u001b[1;34m\"26-11/avec plaque vrai.csv\"\u001b[0m\u001b[1;33m,\u001b[0m \u001b[1;33m(\u001b[0m\u001b[1;34m'Temps2'\u001b[0m\u001b[1;33m,\u001b[0m \u001b[1;34m'EA2'\u001b[0m\u001b[1;33m,\u001b[0m \u001b[1;34m'EA3'\u001b[0m\u001b[1;33m)\u001b[0m\u001b[1;33m,\u001b[0m \u001b[0mnames\u001b[0m\u001b[1;33m=\u001b[0m\u001b[1;32mTrue\u001b[0m\u001b[1;33m)\u001b[0m\u001b[1;33m\u001b[0m\u001b[0m\n\u001b[0m\u001b[0;32m      4\u001b[0m \u001b[0msans\u001b[0m \u001b[1;33m=\u001b[0m \u001b[0mdata_to_array\u001b[0m\u001b[1;33m(\u001b[0m\u001b[1;34m\"26-11/avec plaque.csv\"\u001b[0m\u001b[1;33m,\u001b[0m \u001b[1;33m(\u001b[0m\u001b[1;34m'Temps2'\u001b[0m\u001b[1;33m,\u001b[0m \u001b[1;34m'EA2'\u001b[0m\u001b[1;33m,\u001b[0m \u001b[1;34m'EA3'\u001b[0m\u001b[1;33m)\u001b[0m\u001b[1;33m,\u001b[0m \u001b[0mnames\u001b[0m\u001b[1;33m=\u001b[0m\u001b[1;32mTrue\u001b[0m\u001b[1;33m)\u001b[0m\u001b[1;33m\u001b[0m\u001b[0m\n\u001b[0;32m      5\u001b[0m \u001b[1;33m\u001b[0m\u001b[0m\n",
        "\u001b[1;32m/home/yann/Data/TIPE/g\u00e9ophysique a\u00e9roport\u00e9e/exp\u00e9riences/26-11/exploitation.py\u001b[0m in \u001b[0;36mdata_to_array\u001b[1;34m(file, columns, names)\u001b[0m\n\u001b[0;32m      3\u001b[0m \u001b[1;33m\u001b[0m\u001b[0m\n\u001b[0;32m      4\u001b[0m \u001b[1;32mdef\u001b[0m \u001b[0mdata_to_array\u001b[0m\u001b[1;33m(\u001b[0m\u001b[0mfile\u001b[0m\u001b[1;33m,\u001b[0m \u001b[0mcolumns\u001b[0m\u001b[1;33m,\u001b[0m \u001b[0mnames\u001b[0m\u001b[1;33m=\u001b[0m\u001b[1;32mNone\u001b[0m\u001b[1;33m)\u001b[0m\u001b[1;33m:\u001b[0m\u001b[1;33m\u001b[0m\u001b[0m\n\u001b[1;32m----> 5\u001b[1;33m     \u001b[1;32mwith\u001b[0m \u001b[0mopen\u001b[0m\u001b[1;33m(\u001b[0m\u001b[0mfile\u001b[0m\u001b[1;33m,\u001b[0m \u001b[1;34m'br'\u001b[0m\u001b[1;33m)\u001b[0m \u001b[1;32mas\u001b[0m \u001b[0mf\u001b[0m\u001b[1;33m:\u001b[0m\u001b[1;33m\u001b[0m\u001b[0m\n\u001b[0m\u001b[0;32m      6\u001b[0m         \u001b[0mfirst_line\u001b[0m \u001b[1;33m=\u001b[0m \u001b[0mf\u001b[0m\u001b[1;33m.\u001b[0m\u001b[0mreadline\u001b[0m\u001b[1;33m(\u001b[0m\u001b[1;33m)\u001b[0m\u001b[1;33m.\u001b[0m\u001b[0mdecode\u001b[0m\u001b[1;33m(\u001b[0m\u001b[1;33m)\u001b[0m\u001b[1;33m.\u001b[0m\u001b[0mstrip\u001b[0m\u001b[1;33m(\u001b[0m\u001b[1;33m)\u001b[0m\u001b[1;33m.\u001b[0m\u001b[0msplit\u001b[0m\u001b[1;33m(\u001b[0m\u001b[1;34m';'\u001b[0m\u001b[1;33m)\u001b[0m\u001b[1;33m\u001b[0m\u001b[0m\n\u001b[0;32m      7\u001b[0m         \u001b[0mprint\u001b[0m\u001b[1;33m(\u001b[0m\u001b[0mfirst_line\u001b[0m\u001b[1;33m)\u001b[0m\u001b[1;33m\u001b[0m\u001b[0m\n",
        "\u001b[1;31mFileNotFoundError\u001b[0m: [Errno 2] Aucun fichier ou dossier de ce type: '26-11/avec plaque vrai.csv'"
       ]
      }
     ],
     "prompt_number": 43
    },
    {
     "cell_type": "code",
     "collapsed": false,
     "input": [
      "from matplotlib.widgets import Cursor\n",
      "\n",
      "fig = plt.figure()\n",
      "\n",
      "ax = fig.add_subplot(111)\n",
      "\n",
      "plt.plot(sans['Temps2'][:10000], - avec['EA3'][:10000] + sans['EA3'][:10000], 'b')\n",
      "plt.title('Diff\u00e9rence') \n",
      "\n",
      "cursor = Cursor(ax)"
     ],
     "language": "python",
     "metadata": {},
     "outputs": [],
     "prompt_number": 41
    },
    {
     "cell_type": "code",
     "collapsed": false,
     "input": [],
     "language": "python",
     "metadata": {},
     "outputs": [],
     "prompt_number": 32
    }
   ],
   "metadata": {}
  }
 ]
}